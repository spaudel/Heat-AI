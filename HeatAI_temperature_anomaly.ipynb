{
  "nbformat": 4,
  "nbformat_minor": 0,
  "metadata": {
    "colab": {
      "private_outputs": true,
      "provenance": [],
      "authorship_tag": "ABX9TyPA28XvyG0hs2YA1FJvdXR8",
      "include_colab_link": true
    },
    "kernelspec": {
      "name": "python3",
      "display_name": "Python 3"
    },
    "language_info": {
      "name": "python"
    }
  },
  "cells": [
    {
      "cell_type": "markdown",
      "metadata": {
        "id": "view-in-github",
        "colab_type": "text"
      },
      "source": [
        "<a href=\"https://colab.research.google.com/github/spaudel/Heat-AI/blob/main/HeatAI_temperature_anomaly.ipynb\" target=\"_parent\"><img src=\"https://colab.research.google.com/assets/colab-badge.svg\" alt=\"Open In Colab\"/></a>"
      ]
    },
    {
      "cell_type": "code",
      "execution_count": null,
      "metadata": {
        "id": "lThwGVO60Nyf"
      },
      "outputs": [],
      "source": [
        "## Standard libraries\n",
        "import os\n",
        "import math\n",
        "import numpy as np\n",
        "import time\n",
        "\n",
        "## Imports for plotting\n",
        "import matplotlib.pyplot as plt\n",
        "%matplotlib inline\n",
        "from IPython.display import set_matplotlib_formats\n",
        "set_matplotlib_formats('svg', 'pdf') # For export\n",
        "from matplotlib.colors import to_rgba\n",
        "import seaborn as sns\n",
        "sns.set()\n",
        "\n",
        "## Pandas for reading and processing csvs\n",
        "import pandas as pd\n",
        "\n",
        "## Json decode\n",
        "import json\n",
        "\n",
        "## Use requests to get api data\n",
        "import requests\n",
        "\n",
        "## Progress bar\n",
        "from tqdm.notebook import tqdm"
      ]
    },
    {
      "cell_type": "code",
      "source": [
        "\n",
        "district_id = '64' #surkhet. TODO: create a function for this\n",
        "from_date_time = '2024-09-25'\n",
        "to_date_time = '2024-10-05'\n",
        "\n",
        "# the below url gets hourly forecast for the district for the given start and end date\n",
        "request_url = 'https://heatai.dev.techcolab.org/api/v1/aiapis/district-location-forecasts/?district=64&fromdatetime=2024-09-25&todatetime=2024-10-05'\n",
        "surkhet_forecast_output = requests.get(request_url)\n",
        "\n",
        "surkhet_forecast_dict = surkhet_forecast_output.json()\n",
        "\n",
        "district_id = '66' #banke. TODO: create a function for this\n",
        "\n",
        "\n",
        "# the below url gets hourly forecast for the district for the given start and end date\n",
        "request_url = 'https://heatai.dev.techcolab.org/api/v1/aiapis/district-location-forecasts/?district=66&fromdatetime=2024-09-25&todatetime=2024-10-05'\n",
        "banke_forecast_output = requests.get(request_url)\n",
        "\n",
        "banke_forecast_dict = banke_forecast_output.json()\n",
        "\n",
        "district_id = '55' #salyan. TODO: create a function for this\n",
        "\n",
        "\n",
        "# the below url gets hourly forecast for the district for the given start and end date\n",
        "request_url = 'https://heatai.dev.techcolab.org/api/v1/aiapis/district-location-forecasts/?district=55&fromdatetime=2024-09-25&todatetime=2024-10-05'\n",
        "salyan_forecast_output = requests.get(request_url)\n",
        "\n",
        "salyan_forecast_dict = salyan_forecast_output.json()\n",
        "\n",
        "\n",
        "district_id = '65' #bardiya. TODO: create a function for this\n",
        "\n",
        "\n",
        "# the below url gets hourly forecast for the district for the given start and end date\n",
        "request_url = 'https://heatai.dev.techcolab.org/api/v1/aiapis/district-location-forecasts/?district=65&fromdatetime=2024-09-25&todatetime=2024-10-05'\n",
        "bardiya_forecast_output = requests.get(request_url)\n",
        "\n",
        "bardiya_forecast_dict = bardiya_forecast_output.json()"
      ],
      "metadata": {
        "id": "Rrb9rpaMa2iT"
      },
      "execution_count": null,
      "outputs": []
    },
    {
      "cell_type": "code",
      "source": [
        "# Decode the dictionary to create an array\n",
        "def get_forecast_array(forecast_dict):\n",
        "  array_dict = {}\n",
        "  for key in forecast_dict[0].keys():\n",
        "    for x in range(len(forecast_dict)):\n",
        "      if key in array_dict:\n",
        "        array_dict[key].append(forecast_dict[x][key])\n",
        "      else:\n",
        "        array_dict[key] = [forecast_dict[x][key]]\n",
        "  return array_dict;\n",
        "\n"
      ],
      "metadata": {
        "id": "VuMiFH9FbxkS"
      },
      "execution_count": null,
      "outputs": []
    },
    {
      "cell_type": "code",
      "source": [
        "surkhet_array_dict = get_forecast_array(surkhet_forecast_dict)\n",
        "banke_array_dict = get_forecast_array(banke_forecast_dict)\n",
        "salyan_array_dict = get_forecast_array(salyan_forecast_dict)\n",
        "bardiya_array_dict = get_forecast_array(bardiya_forecast_dict)"
      ],
      "metadata": {
        "id": "Pyu75Vxdntq9"
      },
      "execution_count": null,
      "outputs": []
    },
    {
      "cell_type": "code",
      "source": [
        "plt.plot(surkhet_array_dict['air_temperature'])\n",
        "plt.plot(banke_array_dict['air_temperature'])\n",
        "plt.plot(salyan_array_dict['air_temperature'])\n",
        "plt.plot(bardiya_array_dict['air_temperature'])\n",
        "plt.legend(['surkhet','banke','salyan', 'bardiya'])"
      ],
      "metadata": {
        "id": "3EgGDIVycBNo"
      },
      "execution_count": null,
      "outputs": []
    },
    {
      "cell_type": "code",
      "source": [
        "plt.plot(surkhet_array_dict['relative_humidity'])\n",
        "plt.plot(banke_array_dict['relative_humidity'])\n",
        "plt.plot(salyan_array_dict['relative_humidity'])\n",
        "plt.plot(bardiya_array_dict['relative_humidity'])\n",
        "plt.legend(['surkhet','banke','salyan', 'bardiya'])"
      ],
      "metadata": {
        "id": "cacTitBHcfZW"
      },
      "execution_count": null,
      "outputs": []
    },
    {
      "cell_type": "code",
      "source": [
        "print(surkhet_forecast_dict[0].keys())"
      ],
      "metadata": {
        "id": "fkqCYG2Tm49g"
      },
      "execution_count": null,
      "outputs": []
    },
    {
      "cell_type": "code",
      "source": [
        "plt.plot(surkhet_array_dict['calculated_heat_index'])\n",
        "plt.plot(banke_array_dict['calculated_heat_index'])\n",
        "plt.plot(salyan_array_dict['calculated_heat_index'])\n",
        "plt.plot(bardiya_array_dict['calculated_heat_index'])\n",
        "plt.legend(['surkhet','banke','salyan', 'bardiya'])"
      ],
      "metadata": {
        "id": "-Blus1WmpBpe"
      },
      "execution_count": null,
      "outputs": []
    },
    {
      "cell_type": "code",
      "source": [
        "def extract_month(x):\n",
        "     return pd.Series(x.split('-'))"
      ],
      "metadata": {
        "id": "kSQmME1kdTME"
      },
      "execution_count": null,
      "outputs": []
    },
    {
      "cell_type": "code",
      "source": [
        "# Load csv of historical data\n",
        "\n",
        "test_metdata_url = \"https://raw.githubusercontent.com/spaudel/Heat-AI/refs/heads/main/Badhaiyatal_open-meteo-28.15N81.45E146m.csv?token=GHSAT0AAAAAACZR6EWGT5LBO4VBWXNV5JDOZY5JSAQ\"\n",
        "test_df = pd.read_csv(test_metdata_url)\n",
        "\n",
        "test_dates = test_df['time'].apply(lambda x: extract_month(x))\n",
        "test_dates.columns = ['yy','mm','dd']\n",
        "\n",
        "test_df_summer = test_df.loc[test_dates['mm'].isin(['05','06','07','08'])] #hardcoded summer months: May - August. TODO: Make this editable\n",
        "\n",
        "#Plot summer temperatures\n",
        "plt.plot(range(len(test_df_summer)),test_df_summer['temperature_2m_max (°C)'])\n",
        "plt.plot(range(len(test_df_summer)),test_df_summer['temperature_2m_min (°C)'])\n",
        "plt.plot(range(len(test_df_summer)),test_df_summer['temperature_2m_mean (°C)'])\n",
        "plt.legend(['max','min','mean'])"
      ],
      "metadata": {
        "id": "8NyazPETpLhL"
      },
      "execution_count": null,
      "outputs": []
    },
    {
      "cell_type": "code",
      "source": [],
      "metadata": {
        "id": "ZE4hcPEBHAGR"
      },
      "execution_count": null,
      "outputs": []
    }
  ]
}